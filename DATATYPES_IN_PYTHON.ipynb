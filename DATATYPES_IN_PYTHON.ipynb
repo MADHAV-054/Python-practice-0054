{
  "cells": [
    {
      "cell_type": "markdown",
      "metadata": {
        "id": "view-in-github",
        "colab_type": "text"
      },
      "source": [
        "<a href=\"https://colab.research.google.com/github/MADHAV-054/Python-practice-0054/blob/module-1/DATATYPES_IN_PYTHON.ipynb\" target=\"_parent\"><img src=\"https://colab.research.google.com/assets/colab-badge.svg\" alt=\"Open In Colab\"/></a>"
      ]
    },
    {
      "cell_type": "markdown",
      "id": "1c4b6055",
      "metadata": {
        "id": "1c4b6055"
      },
      "source": [
        "## converting int to string, float , boolean , complex."
      ]
    },
    {
      "cell_type": "code",
      "execution_count": null,
      "id": "00dfacc0",
      "metadata": {
        "id": "00dfacc0",
        "outputId": "02e4372e-e6ab-4238-ebfa-b7d7c9e83356"
      },
      "outputs": [
        {
          "name": "stdout",
          "output_type": "stream",
          "text": [
            "10\n",
            "<class 'int'>\n",
            "10\n",
            "<class 'str'>\n",
            "10.0\n",
            "<class 'float'>\n",
            "True\n",
            "<class 'bool'>\n",
            "(10+0j)\n",
            "<class 'complex'>\n"
          ]
        }
      ],
      "source": [
        "a=10\n",
        "#before conversion\n",
        "print(a) \n",
        "print(type(a))\n",
        "#after conversion\n",
        "b=str(a)\n",
        "print(b)\n",
        "print(type(b))\n",
        "c=float(a)\n",
        "print(c)\n",
        "print(type(c))\n",
        "d=bool(a)\n",
        "print(d)\n",
        "print(type(d))\n",
        "e=complex(a)\n",
        "print(e)\n",
        "print(type(e))\n"
      ]
    },
    {
      "cell_type": "markdown",
      "id": "76ba7b8f",
      "metadata": {
        "id": "76ba7b8f"
      },
      "source": [
        "## converting string to int , float , boolean , complex."
      ]
    },
    {
      "cell_type": "code",
      "execution_count": null,
      "id": "c14b7da4",
      "metadata": {
        "id": "c14b7da4",
        "outputId": "8b44da63-a672-4caf-c1ba-2580a6e9ae7a"
      },
      "outputs": [
        {
          "name": "stdout",
          "output_type": "stream",
          "text": [
            "10\n",
            "<class 'str'>\n",
            "10\n",
            "<class 'int'>\n",
            "10.0\n",
            "<class 'float'>\n",
            "True\n",
            "<class 'bool'>\n",
            "(10+0j)\n",
            "<class 'complex'>\n"
          ]
        }
      ],
      "source": [
        "a='10'\n",
        "print(a)\n",
        "print(type(a))\n",
        "b=int(a)\n",
        "print(b)\n",
        "print(type(b))\n",
        "#c='t'\n",
        "#print(c)\n",
        "#print(type(c))\n",
        "#d=int(c)\n",
        "#print(d)\n",
        "#print(typr(d))\n",
        "# a string can be converted into int but has a limitation \n",
        "#-- numbers can be converted from string to int but alphabets or words cannot be converted.\n",
        "e=float(a)\n",
        "print(e)\n",
        "print(type(e))\n",
        "f=bool(a)\n",
        "print(f)\n",
        "print(type(f))\n",
        "g=complex(a)\n",
        "print(g)\n",
        "print(type(g))"
      ]
    },
    {
      "cell_type": "markdown",
      "id": "7e7d4970",
      "metadata": {
        "id": "7e7d4970"
      },
      "source": [
        "## converting float into int , string , boolean , complex."
      ]
    },
    {
      "cell_type": "code",
      "execution_count": null,
      "id": "685b97f0",
      "metadata": {
        "id": "685b97f0",
        "outputId": "7e57121d-f70f-41dd-cd45-83b49f6d5e12"
      },
      "outputs": [
        {
          "name": "stdout",
          "output_type": "stream",
          "text": [
            "10.0\n",
            "<class 'float'>\n",
            "10\n",
            "<class 'int'>\n",
            "10.0\n",
            "<class 'str'>\n",
            "True\n",
            "<class 'bool'>\n",
            "(10+0j)\n",
            "<class 'complex'>\n"
          ]
        }
      ],
      "source": [
        "a=float(10)\n",
        "print(a)\n",
        "print(type(a))\n",
        "b=int(a)\n",
        "print(b)\n",
        "print(type(b))\n",
        "c=str(a)\n",
        "print(c)\n",
        "print(type(c))\n",
        "d=bool(a)\n",
        "print(d)\n",
        "print(type(d))\n",
        "e=complex(a)\n",
        "print(e)\n",
        "print(type(e))"
      ]
    },
    {
      "cell_type": "markdown",
      "id": "e186acf5",
      "metadata": {
        "id": "e186acf5"
      },
      "source": [
        "## converting boolean to int , float ,string, complex."
      ]
    },
    {
      "cell_type": "code",
      "execution_count": null,
      "id": "14717c1f",
      "metadata": {
        "id": "14717c1f",
        "outputId": "38090c6c-2b87-4106-f123-558eb8fe908e"
      },
      "outputs": [
        {
          "name": "stdout",
          "output_type": "stream",
          "text": [
            "True\n",
            "<class 'bool'>\n",
            "1\n",
            "<class 'int'>\n",
            "True\n",
            "<class 'str'>\n",
            "(1+0j)\n",
            "<class 'complex'>\n",
            "1.0\n",
            "<class 'float'>\n"
          ]
        }
      ],
      "source": [
        "a=bool(1)\n",
        "print(a)\n",
        "print(type(a))\n",
        "b=int(a)\n",
        "print(b)\n",
        "print(type(b))\n",
        "c=str(a)\n",
        "print(c)\n",
        "print(type(c))\n",
        "d=complex(a)\n",
        "print(d)\n",
        "print(type(d))\n",
        "e=float(a)\n",
        "print(e)\n",
        "print(type(e))"
      ]
    },
    {
      "cell_type": "markdown",
      "id": "fb76610b",
      "metadata": {
        "id": "fb76610b"
      },
      "source": [
        "## converting complex to int , float ,string, boolean."
      ]
    },
    {
      "cell_type": "code",
      "execution_count": null,
      "id": "851eb520",
      "metadata": {
        "id": "851eb520",
        "outputId": "5bcc5551-fd92-430c-ffc0-920a8af161e1"
      },
      "outputs": [
        {
          "name": "stdout",
          "output_type": "stream",
          "text": [
            "(10+0j)\n",
            "<class 'complex'>\n",
            "(10+0j)\n",
            "<class 'str'>\n",
            "True\n",
            "<class 'bool'>\n"
          ]
        }
      ],
      "source": [
        "a=complex(10)\n",
        "print(a)\n",
        "print(type(a))\n",
        "#cannot convert complex to int \n",
        "#b=int(a)\n",
        "#print(b)\n",
        "#print(type(b))\n",
        "c=str(a)\n",
        "print(c)\n",
        "print(type(c))\n",
        "d=bool(a)\n",
        "print(d)\n",
        "print(type(d))\n",
        "#cannot convert complex to float\n",
        "#e=float(a)\n",
        "#print(e)\n",
        "#print(type(e))"
      ]
    },
    {
      "cell_type": "code",
      "execution_count": null,
      "id": "8750f7bd",
      "metadata": {
        "id": "8750f7bd"
      },
      "outputs": [],
      "source": [
        ""
      ]
    }
  ],
  "metadata": {
    "kernelspec": {
      "display_name": "Python 3 (ipykernel)",
      "language": "python",
      "name": "python3"
    },
    "language_info": {
      "codemirror_mode": {
        "name": "ipython",
        "version": 3
      },
      "file_extension": ".py",
      "mimetype": "text/x-python",
      "name": "python",
      "nbconvert_exporter": "python",
      "pygments_lexer": "ipython3",
      "version": "3.9.7"
    },
    "colab": {
      "name": "DATATYPES IN PYTHON.ipynb",
      "provenance": [],
      "include_colab_link": true
    }
  },
  "nbformat": 4,
  "nbformat_minor": 5
}