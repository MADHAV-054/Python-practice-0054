{
  "nbformat": 4,
  "nbformat_minor": 0,
  "metadata": {
    "colab": {
      "name": "Dictionaries.ipynb",
      "provenance": [],
      "authorship_tag": "ABX9TyNRIeMxZ5xbTrRG1eOHHBPL",
      "include_colab_link": true
    },
    "kernelspec": {
      "name": "python3",
      "display_name": "Python 3"
    },
    "language_info": {
      "name": "python"
    }
  },
  "cells": [
    {
      "cell_type": "markdown",
      "metadata": {
        "id": "view-in-github",
        "colab_type": "text"
      },
      "source": [
        "<a href=\"https://colab.research.google.com/github/MADHAV-054/Python-practice-0054/blob/main/Dictionaries.ipynb\" target=\"_parent\"><img src=\"https://colab.research.google.com/assets/colab-badge.svg\" alt=\"Open In Colab\"/></a>"
      ]
    },
    {
      "cell_type": "code",
      "execution_count": null,
      "metadata": {
        "colab": {
          "base_uri": "https://localhost:8080/"
        },
        "id": "jvGgkBgThsej",
        "outputId": "f2716795-8cfb-4122-cb5a-a612c5efa90e"
      },
      "outputs": [
        {
          "output_type": "stream",
          "name": "stdout",
          "text": [
            "{'name': 'Madhav', 'age': '18years', 'cgpa': '9.2', 'phone No.': '7032525119'}\n",
            "enter Name: Madhav\n",
            "enter age: 18\n",
            "enter cgpa: 9.3\n",
            "enter Ph No.: 7032525119\n",
            "{'name': 'Madhav', 'age': 18, 'cgpa': 9.3, 'phone No.': 7032525119}\n"
          ]
        }
      ],
      "source": [
        "placement={\n",
        "    \"name\":\"Madhav\",\n",
        "    \"age\":\"18years\",\n",
        "    \"cgpa\":\"9.2\",\n",
        "    \"phone No.\":\"7032525119\"\n",
        "}\n",
        "print(placement)\n",
        "\n",
        "placement={\n",
        "    \"name\":input(\"enter Name: \"),\n",
        "    \"age\":int(input(\"enter age: \")),\n",
        "    \"cgpa\":float(input(\"enter cgpa: \")),\n",
        "    \"phone No.\":int(input(\"enter Ph No.: \"))\n",
        "}\n",
        "print(placement)"
      ]
    },
    {
      "cell_type": "code",
      "source": [
        ""
      ],
      "metadata": {
        "id": "w4xo_ZJgWSfb"
      },
      "execution_count": null,
      "outputs": []
    }
  ]
}