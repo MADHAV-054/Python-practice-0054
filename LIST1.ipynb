{
  "nbformat": 4,
  "nbformat_minor": 0,
  "metadata": {
    "colab": {
      "name": "LIST.ipynb",
      "provenance": [],
      "authorship_tag": "ABX9TyM8BXFsGzZuVuPh4SYdo7jg",
      "include_colab_link": true
    },
    "kernelspec": {
      "name": "python3",
      "display_name": "Python 3"
    },
    "language_info": {
      "name": "python"
    }
  },
  "cells": [
    {
      "cell_type": "markdown",
      "metadata": {
        "id": "view-in-github",
        "colab_type": "text"
      },
      "source": [
        "<a href=\"https://colab.research.google.com/github/MADHAV-054/Python-practice-0054/blob/main/LIST1.ipynb\" target=\"_parent\"><img src=\"https://colab.research.google.com/assets/colab-badge.svg\" alt=\"Open In Colab\"/></a>"
      ]
    },
    {
      "cell_type": "code",
      "execution_count": 7,
      "metadata": {
        "colab": {
          "base_uri": "https://localhost:8080/"
        },
        "id": "3DhPRtnr47X4",
        "outputId": "45b8fbe9-1840-4338-a736-104b0ecca08d"
      },
      "outputs": [
        {
          "output_type": "stream",
          "name": "stdout",
          "text": [
            "['apple', 'orange', 'grape', 'watermelon', 'mango', 'banana']\n",
            "['grape', 'watermelon', 'mango', 'banana']\n",
            "apple\n",
            "orange\n",
            "grape\n",
            "watermelon\n",
            "mango\n",
            "banana\n",
            "banana\n",
            "mango\n",
            "watermelon\n",
            "grape\n",
            "orange\n",
            "apple\n",
            "yes\n",
            "['apple', 'orange', 'blackcurrent', 'watermelon', 'mango', 'banana']\n",
            "['apple', 'orange', 'blackcurrent', 'kiwi', 'papaya', 'mango', 'banana']\n",
            "['apple', 'orange', 'blackcurrent', 'kiwi', 'strawberry', 'papaya', 'mango', 'banana']\n",
            "['apple', 'orange', 'blackcurrent', 'kiwi', 'strawberry', 'papaya', 'mango', 'banana', 'raspberry']\n",
            "['apple', 'orange', 'blackcurrent', 'kiwi', 'strawberry', 'papaya', 'mango', 'banana', 'raspberry', 'cherry', 'gauva']\n",
            "['apple', 'orange', 'blackcurrent', 'kiwi', 'strawberry', 'papaya', 'mango', 'raspberry', 'cherry', 'gauva']\n",
            "['apple', 'orange', 'blackcurrent', 'kiwi', 'strawberry', 'papaya', 'mango', 'raspberry', 'cherry']\n",
            "['apple', 'orange', 'blackcurrent', 'kiwi', 'papaya', 'mango', 'raspberry', 'cherry']\n",
            "apple\n",
            "orange\n",
            "blackcurrent\n",
            "kiwi\n",
            "papaya\n",
            "mango\n",
            "raspberry\n",
            "cherry\n"
          ]
        }
      ],
      "source": [
        "#\n",
        "fruit=['apple','orange','grape','watermelon','mango','banana']\n",
        "#\n",
        "print(fruit[0:6])\n",
        "#\n",
        "print(fruit[2:6])\n",
        "#\n",
        "print(fruit[0])\n",
        "print(fruit[1])\n",
        "print(fruit[2])\n",
        "print(fruit[3])\n",
        "print(fruit[4])\n",
        "print(fruit[5])\n",
        "#\n",
        "print(fruit[-1])\n",
        "print(fruit[-2])\n",
        "print(fruit[-3])\n",
        "print(fruit[-4])\n",
        "print(fruit[-5])\n",
        "print(fruit[-6])\n",
        "#\n",
        "if \"apple\" in fruit:\n",
        "  print(\"yes\")\n",
        "# \n",
        "fruit[2]=\"blackcurrent\"\n",
        "print(fruit)  \n",
        "#\n",
        "fruit[2:4]=\"blackcurrent\",\"kiwi\",\"papaya\"\n",
        "print(fruit)\n",
        "#\n",
        "fruit.insert(4,\"strawberry\")\n",
        "print(fruit)\n",
        "#\n",
        "fruit.append(\"raspberry\")\n",
        "print(fruit)\n",
        "#\n",
        "tropical=['cherry','gauva']\n",
        "fruit.extend(tropical)\n",
        "print(fruit)\n",
        "#\n",
        "fruit.remove(\"banana\")\n",
        "print(fruit)\n",
        "#\n",
        "fruit.pop()\n",
        "print(fruit)\n",
        "#\n",
        "del fruit[4]\n",
        "print(fruit)\n",
        "#\n",
        "for x in fruit:\n",
        "  print(x) "
      ]
    },
    {
      "cell_type": "code",
      "source": [
        "#\n",
        "name=['m','a','d','h','a','v']\n",
        "print(name[-6:-1])\n",
        "print(name[0:6])\n",
        "print(name[:])\n",
        "print(name[4:])\n",
        "print(name[:4])"
      ],
      "metadata": {
        "colab": {
          "base_uri": "https://localhost:8080/"
        },
        "id": "dghawAXS_EEu",
        "outputId": "1611a32e-d656-4185-9733-f25f55488c16"
      },
      "execution_count": null,
      "outputs": [
        {
          "output_type": "stream",
          "name": "stdout",
          "text": [
            "['m', 'a', 'd', 'h', 'a']\n",
            "['m', 'a', 'd', 'h', 'a', 'v']\n",
            "['m', 'a', 'd', 'h', 'a', 'v']\n",
            "['a', 'v']\n",
            "['m', 'a', 'd', 'h']\n"
          ]
        }
      ]
    },
    {
      "cell_type": "code",
      "source": [
        "#\n",
        "num=['1','2','3','4','5','6','7']\n",
        "num[6]='98'\n",
        "print(num[:])"
      ],
      "metadata": {
        "colab": {
          "base_uri": "https://localhost:8080/"
        },
        "id": "9GCJESkpBBG-",
        "outputId": "9e1d6c08-1da9-4afb-f7ef-9fa1144b9a44"
      },
      "execution_count": null,
      "outputs": [
        {
          "output_type": "stream",
          "name": "stdout",
          "text": [
            "['1', '2', '3', '4', '5', '6', '98']\n"
          ]
        }
      ]
    }
  ]
}