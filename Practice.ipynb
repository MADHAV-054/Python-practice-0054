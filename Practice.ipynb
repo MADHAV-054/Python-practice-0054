{
  "nbformat": 4,
  "nbformat_minor": 0,
  "metadata": {
    "colab": {
      "name": "Practice.ipynb",
      "provenance": [],
      "authorship_tag": "ABX9TyOqM3C1UjX1KGGg9Guic9AB",
      "include_colab_link": true
    },
    "kernelspec": {
      "name": "python3",
      "display_name": "Python 3"
    },
    "language_info": {
      "name": "python"
    }
  },
  "cells": [
    {
      "cell_type": "markdown",
      "metadata": {
        "id": "view-in-github",
        "colab_type": "text"
      },
      "source": [
        "<a href=\"https://colab.research.google.com/github/MADHAV-054/Python-practice-0054/blob/main/Practice.ipynb\" target=\"_parent\"><img src=\"https://colab.research.google.com/assets/colab-badge.svg\" alt=\"Open In Colab\"/></a>"
      ]
    },
    {
      "cell_type": "code",
      "execution_count": null,
      "metadata": {
        "id": "dGGzmM_5bJOU"
      },
      "outputs": [],
      "source": [
        "#WAP to print prime numbers in a given range using functions,range-(25,50)\n",
        "def prime(a,b):\n",
        "  for x in range(a,b+1):\n",
        "    k=0\n",
        "    for y in range(2,x):\n",
        "      if x%y==0:\n",
        "        k+=1\n",
        "    if k==0:\n",
        "      print(x)\n",
        "num1=int(input())\n",
        "num2=int(input())       \n",
        "prime(num1,num2)      \n",
        "# \n",
        "def prime():\n",
        "  num1=int(input())\n",
        "  num2=int(input())\n",
        "  for x in range(num1,num2+1):\n",
        "    if(x>1):\n",
        "      for i in range(2,x):\n",
        "        if(x%i==0):\n",
        "          break\n",
        "      else:\n",
        "        print(x)\n",
        "prime()            "
      ]
    },
    {
      "cell_type": "code",
      "source": [
        "#WAP to read any month in integer and display days for that month\n",
        "month=[1,3,5,7,8,10,12]\n",
        "a=int(input())\n",
        "if a in month:\n",
        "  print(\"31 days\")\n",
        "elif a==2:\n",
        "  print(\"28 or 29 days\")\n",
        "elif a>12 or a<1:\n",
        "  print(\"incorrect\")  \n",
        "else:\n",
        "  print(\"30 days \")    "
      ],
      "metadata": {
        "colab": {
          "base_uri": "https://localhost:8080/"
        },
        "id": "egjJYDh_biv2",
        "outputId": "cf791885-11fc-45cf-c2e4-a8accc4f0c51"
      },
      "execution_count": null,
      "outputs": [
        {
          "output_type": "stream",
          "name": "stdout",
          "text": [
            "4\n",
            "30 days \n"
          ]
        }
      ]
    },
    {
      "cell_type": "code",
      "source": [
        "#WAP to print even length of words in a string\n",
        "a=str(input(\"enter a string : \"))\n",
        "a=a.split()\n",
        "print(a)\n",
        "for x in a:\n",
        "  if len(x)%2==0:\n",
        "    print(x,end=\" \")"
      ],
      "metadata": {
        "colab": {
          "base_uri": "https://localhost:8080/"
        },
        "id": "LvBQq_TNbuDX",
        "outputId": "e988fd27-a016-4c45-b4bf-35d5818ba656"
      },
      "execution_count": null,
      "outputs": [
        {
          "output_type": "stream",
          "name": "stdout",
          "text": [
            "enter a string : i am madhav\n",
            "['i', 'am', 'madhav']\n",
            "am madhav "
          ]
        }
      ]
    },
    {
      "cell_type": "code",
      "source": [
        "#WAP to capitalise the first letter and last letter of each word\n",
        "a=input(\"enter a string : \")\n",
        "b=a.split(' ')\n",
        "s=''\n",
        "for i in b:\n",
        "  x=i.capitalize()\n",
        "  y=i[-1].capitalize()\n",
        "  s=x[0:-1]+y\n",
        "  print(s,end=\" \")\n",
        "print(\"----\")\n",
        "#WAP to read a string from user and display first character of each word with capital\n",
        "a=input(\"enter a string : \")\n",
        "def cap(a):\n",
        "  a=a.title()\n",
        "  print(a)\n",
        "cap(a)"
      ],
      "metadata": {
        "colab": {
          "base_uri": "https://localhost:8080/"
        },
        "id": "yJceLvP4cwyn",
        "outputId": "2f258712-73f8-4b87-f6b6-efd69fbd999a"
      },
      "execution_count": 12,
      "outputs": [
        {
          "output_type": "stream",
          "name": "stdout",
          "text": [
            "enter a string : i am madhav\n",
            "I AM MadhaV ----\n",
            "enter a string : i am madhav\n",
            "I Am Madhav\n"
          ]
        }
      ]
    },
    {
      "cell_type": "code",
      "source": [
        "#WAP to convert list of multiple integer to single integer\n",
        "#[11,33,50]  113350\n",
        "a=eval(input(\"enter list of integers: \"))\n",
        "b=\"\"\n",
        "for i in a:\n",
        "  b=b+str(i)\n",
        "print(b) "
      ],
      "metadata": {
        "colab": {
          "base_uri": "https://localhost:8080/"
        },
        "id": "MPFkobMMcVvV",
        "outputId": "822842fe-09cf-4abb-f585-d0168e4a9558"
      },
      "execution_count": null,
      "outputs": [
        {
          "output_type": "stream",
          "name": "stdout",
          "text": [
            "enter list of integers: 6666,5555,4444\n",
            "666655554444\n"
          ]
        }
      ]
    },
    {
      "cell_type": "code",
      "source": [
        "#WAP to power of number with recursion and without recursion\n",
        "import math\n",
        "n=int(input(\"enter a number: \"))\n",
        "p=int(input(\"enter power number: \"))\n",
        "x=pow(n,p)\n",
        "print(\"power of\",n,\"is:\" ,x)"
      ],
      "metadata": {
        "colab": {
          "base_uri": "https://localhost:8080/"
        },
        "id": "zs182f2wJU_t",
        "outputId": "65c0c045-bd70-40c0-8e10-d05cb9a8c6c9"
      },
      "execution_count": 15,
      "outputs": [
        {
          "output_type": "stream",
          "name": "stdout",
          "text": [
            "enter a number: 2\n",
            "enter power number: 3\n",
            "power of 2 is: 8\n"
          ]
        }
      ]
    },
    {
      "cell_type": "code",
      "source": [
        "#WAP to sort tuples by total digits input list=[(3,4,6,723),(1,2),(134,34)]\n",
        "a=[(3,4,6,723),(1,2),(134,34)]\n",
        "a.sort()\n",
        "print(a)"
      ],
      "metadata": {
        "colab": {
          "base_uri": "https://localhost:8080/"
        },
        "id": "lAi3TMG4LFmT",
        "outputId": "c3db88a4-f2bb-4e8a-8dd8-00b32bf4a087"
      },
      "execution_count": 16,
      "outputs": [
        {
          "output_type": "stream",
          "name": "stdout",
          "text": [
            "[(1, 2), (3, 4, 6, 723), (134, 34)]\n"
          ]
        }
      ]
    },
    {
      "cell_type": "code",
      "source": [
        "#Accepting 5 different subject marks from user and displaying the grade of the student\n",
        "m=int(input(\"enter maths marks : \"))\n",
        "p=int(input(\"enter phy marks : \"))\n",
        "c=int(input(\"enter chem marks : \"))\n",
        "s=int(input(\"enter cse marks : \"))\n",
        "b=int(input(\"enter beee marks : \"))\n",
        "total=m+p+c+s+b\n",
        "print(total)\n",
        "avg=total/5\n",
        "print(avg)\n",
        "if avg>=91 and avg<=100:\n",
        "    print(\"A+\")\n",
        "elif avg>=81 and avg<91:\n",
        "    print(\"A\")\n",
        "elif avg>=71 and avg<81:\n",
        "    print(\"B\")\n",
        "elif avg>=61 and avg<71:\n",
        "    print(\"C\")\n",
        "elif avg>=51 and avg<61:\n",
        "    print(\"D\")\n",
        "elif avg>=41 and avg<51:\n",
        "    print(\"E\")\n",
        "elif avg>=33 and avg<41:\n",
        "    print(\"F\")"
      ],
      "metadata": {
        "id": "jhw1-xndLFrC"
      },
      "execution_count": null,
      "outputs": []
    },
    {
      "cell_type": "code",
      "source": [
        "#WAP that prints one if all the three given numbers are in ascending order if not print 0\n",
        "n1=int(input(\"enter n1 : \"))\n",
        "n2=int(input(\"enter n2 : \"))\n",
        "n3=int(input(\"enter n3 : \"))\n",
        "if n1<n2<n3:\n",
        "  print(\"1\")\n",
        "else:\n",
        "  print(\"0\")  "
      ],
      "metadata": {
        "colab": {
          "base_uri": "https://localhost:8080/"
        },
        "id": "g86m-VfVLFu1",
        "outputId": "d76995c9-b696-4c4c-b571-437cbd0b83f2"
      },
      "execution_count": 22,
      "outputs": [
        {
          "output_type": "stream",
          "name": "stdout",
          "text": [
            "enter n1 : 1\n",
            "enter n2 : 3\n",
            "enter n3 : 5\n",
            "1\n"
          ]
        }
      ]
    },
    {
      "cell_type": "code",
      "source": [
        "#WAP to check given number is perfect number or not \n",
        "n=int(input())\n",
        "sum=0\n",
        "for i in range(1, n):\n",
        "    if(n%i==0):\n",
        "        sum=sum+i\n",
        "if (sum==n):\n",
        "    print(\"Perfect number\")\n",
        "else:\n",
        "    print(\"Not a Perfect number\")"
      ],
      "metadata": {
        "id": "0BvXkfIoLPX1"
      },
      "execution_count": null,
      "outputs": []
    },
    {
      "cell_type": "code",
      "source": [
        "#WAP to check given string is palindrome or not\n"
      ],
      "metadata": {
        "id": "crFQQ-cdLham"
      },
      "execution_count": null,
      "outputs": []
    },
    {
      "cell_type": "code",
      "source": [
        "#WAP to find gcd of two numbers with and without recursion input -5,3 output-1"
      ],
      "metadata": {
        "id": "3gYC98ZCLyz1"
      },
      "execution_count": null,
      "outputs": []
    },
    {
      "cell_type": "code",
      "source": [
        "#WAP to print sum of even digits in a number"
      ],
      "metadata": {
        "id": "7aKKZEPJMNl5"
      },
      "execution_count": null,
      "outputs": []
    },
    {
      "cell_type": "code",
      "source": [
        "#WAP calculate the product of digits of a number"
      ],
      "metadata": {
        "id": "rno8zeiTMhmV"
      },
      "execution_count": null,
      "outputs": []
    },
    {
      "cell_type": "code",
      "source": [
        "#WAP to calculate the sum of squares of a digits of a nummber "
      ],
      "metadata": {
        "id": "985CVfpxMpZJ"
      },
      "execution_count": null,
      "outputs": []
    },
    {
      "cell_type": "code",
      "source": [
        "# given input s, input=ABCDEFCBA how may times\n",
        "print(count)  "
      ],
      "metadata": {
        "id": "eI92mRZfM025"
      },
      "execution_count": null,
      "outputs": []
    },
    {
      "cell_type": "code",
      "source": [
        "#WAP to print vowels and consonants in given string"
      ],
      "metadata": {
        "id": "Th8SBHMnNEsJ"
      },
      "execution_count": null,
      "outputs": []
    },
    {
      "cell_type": "code",
      "source": [
        "##WAP given two integers A&B if a<b print all numbers between a and b in ascending order and viceversa"
      ],
      "metadata": {
        "id": "8kEoGymJOrnL"
      },
      "execution_count": null,
      "outputs": []
    },
    {
      "cell_type": "code",
      "source": [
        "#WAP to print largest of three numbers"
      ],
      "metadata": {
        "id": "99FMP-f3PabW"
      },
      "execution_count": null,
      "outputs": []
    },
    {
      "cell_type": "code",
      "source": [
        "#WAP to count of the number of strings where the string len is two or more and the first and last values are same"
      ],
      "metadata": {
        "id": "0lN12AlcPgJK"
      },
      "execution_count": null,
      "outputs": []
    },
    {
      "cell_type": "code",
      "source": [
        "#WAP to take input from the user as the nu mber of days ,nuumber of rounds taken \n",
        "#calculate the total distance in hrs and mins , "
      ],
      "metadata": {
        "id": "0nn0pnXSQNyo"
      },
      "execution_count": null,
      "outputs": []
    },
    {
      "cell_type": "code",
      "source": [
        "#WAp given a list of stu"
      ],
      "metadata": {
        "id": "K7PfD0fVRmB6"
      },
      "execution_count": null,
      "outputs": []
    },
    {
      "cell_type": "code",
      "source": [
        "#given a list of city names , print the city names whose len is greater than given len"
      ],
      "metadata": {
        "id": "wdZ_7Ti5R_vL"
      },
      "execution_count": null,
      "outputs": []
    }
  ]
}