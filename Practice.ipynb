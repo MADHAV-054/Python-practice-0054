{
  "nbformat": 4,
  "nbformat_minor": 0,
  "metadata": {
    "colab": {
      "name": "Practice.ipynb",
      "provenance": [],
      "authorship_tag": "ABX9TyMuf09Lj1r3URLQAtVwInZn",
      "include_colab_link": true
    },
    "kernelspec": {
      "name": "python3",
      "display_name": "Python 3"
    },
    "language_info": {
      "name": "python"
    }
  },
  "cells": [
    {
      "cell_type": "markdown",
      "metadata": {
        "id": "view-in-github",
        "colab_type": "text"
      },
      "source": [
        "<a href=\"https://colab.research.google.com/github/MADHAV-054/Python-practice-0054/blob/main/Practice.ipynb\" target=\"_parent\"><img src=\"https://colab.research.google.com/assets/colab-badge.svg\" alt=\"Open In Colab\"/></a>"
      ]
    },
    {
      "cell_type": "code",
      "execution_count": null,
      "metadata": {
        "id": "dGGzmM_5bJOU"
      },
      "outputs": [],
      "source": [
        "#WAP to print prime numbers in a given range using functions,range-(25,50)\n",
        "def prime(a,b):\n",
        "  for x in range(a,b+1):\n",
        "    k=0\n",
        "    for y in range(2,x):\n",
        "      if x%y==0:\n",
        "        k+=1\n",
        "    if k==0:\n",
        "      print(x)\n",
        "num1=int(input())\n",
        "num2=int(input())       \n",
        "prime(num1,num2)      \n",
        "# \n",
        "def prime():\n",
        "  num1=int(input())\n",
        "  num2=int(input())\n",
        "  for x in range(num1,num2+1):\n",
        "    if(x>1):\n",
        "      for i in range(2,x):\n",
        "        if(x%i==0):\n",
        "          break\n",
        "      else:\n",
        "        print(x)\n",
        "prime()            "
      ]
    },
    {
      "cell_type": "code",
      "source": [
        "#WAP to read any month in integer and display days for that month\n",
        "month=[1,3,5,7,8,10,12]\n",
        "a=int(input())\n",
        "if a in month:\n",
        "  print(\"31 days\")\n",
        "elif a==2:\n",
        "  print(\"28 or 29 days\")\n",
        "elif a>12 or a<1:\n",
        "  print(\"incorrect\")  \n",
        "else:\n",
        "  print(\"30 days \")    "
      ],
      "metadata": {
        "colab": {
          "base_uri": "https://localhost:8080/"
        },
        "id": "egjJYDh_biv2",
        "outputId": "cf791885-11fc-45cf-c2e4-a8accc4f0c51"
      },
      "execution_count": 32,
      "outputs": [
        {
          "output_type": "stream",
          "name": "stdout",
          "text": [
            "4\n",
            "30 days \n"
          ]
        }
      ]
    },
    {
      "cell_type": "code",
      "source": [
        "#WAP to print even length of words in a string\n",
        "a=str(input(\"enter a string : \"))\n",
        "a=a.split()\n",
        "print(a)\n",
        "for x in a:\n",
        "  if len(x)%2==0:\n",
        "    print(x,end=\" \")"
      ],
      "metadata": {
        "colab": {
          "base_uri": "https://localhost:8080/"
        },
        "id": "LvBQq_TNbuDX",
        "outputId": "e988fd27-a016-4c45-b4bf-35d5818ba656"
      },
      "execution_count": 48,
      "outputs": [
        {
          "output_type": "stream",
          "name": "stdout",
          "text": [
            "enter a string : i am madhav\n",
            "['i', 'am', 'madhav']\n",
            "am madhav "
          ]
        }
      ]
    },
    {
      "cell_type": "code",
      "source": [
        "#WAP to capitalise the first letter and last letter of each word\n",
        "#WAP to read a string from user and display first character of each word with capital\n",
        "a=input(\"enter a string : \")\n",
        "b=a.split(' ')\n",
        "s=''\n",
        "for i in b:\n",
        "  x=i.capitalize()\n",
        "  y=i[-1].capitalize()\n",
        "  s=x[0:-1]+y\n",
        "  print(s,end=' ')"
      ],
      "metadata": {
        "colab": {
          "base_uri": "https://localhost:8080/"
        },
        "id": "yJceLvP4cwyn",
        "outputId": "a124f77b-591a-4084-efe6-7a9367ea9328"
      },
      "execution_count": 64,
      "outputs": [
        {
          "output_type": "stream",
          "name": "stdout",
          "text": [
            "enter a string : i am madhav\n",
            "I AM MadhaV "
          ]
        }
      ]
    },
    {
      "cell_type": "code",
      "source": [
        "#WAP to convert list of multiple integer to single integer\n",
        "#[11,33,50]  113350\n",
        "a=eval(input(\"enter list of integers: \"))\n",
        "b=\"\"\n",
        "for i in a:\n",
        "  b=b+str(i)\n",
        "print(b) "
      ],
      "metadata": {
        "colab": {
          "base_uri": "https://localhost:8080/"
        },
        "id": "MPFkobMMcVvV",
        "outputId": "822842fe-09cf-4abb-f585-d0168e4a9558"
      },
      "execution_count": 58,
      "outputs": [
        {
          "output_type": "stream",
          "name": "stdout",
          "text": [
            "enter list of integers: 6666,5555,4444\n",
            "666655554444\n"
          ]
        }
      ]
    }
  ]
}