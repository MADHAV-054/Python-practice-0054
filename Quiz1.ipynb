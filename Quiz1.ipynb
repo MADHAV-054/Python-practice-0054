{
  "nbformat": 4,
  "nbformat_minor": 0,
  "metadata": {
    "colab": {
      "name": "Quiz1.ipynb",
      "provenance": [],
      "authorship_tag": "ABX9TyOsmPEPGRnUIZpItUDrStv1",
      "include_colab_link": true
    },
    "kernelspec": {
      "name": "python3",
      "display_name": "Python 3"
    },
    "language_info": {
      "name": "python"
    }
  },
  "cells": [
    {
      "cell_type": "markdown",
      "metadata": {
        "id": "view-in-github",
        "colab_type": "text"
      },
      "source": [
        "<a href=\"https://colab.research.google.com/github/MADHAV-054/Python-practice-0054/blob/main/Quiz1.ipynb\" target=\"_parent\"><img src=\"https://colab.research.google.com/assets/colab-badge.svg\" alt=\"Open In Colab\"/></a>"
      ]
    },
    {
      "cell_type": "code",
      "execution_count": 1,
      "metadata": {
        "colab": {
          "base_uri": "https://localhost:8080/"
        },
        "id": "n827ISx6iO4V",
        "outputId": "926ac525-3f23-4e3d-f1ef-33204f904155"
      },
      "outputs": [
        {
          "output_type": "stream",
          "name": "stdout",
          "text": [
            "Result =  3 2\n"
          ]
        }
      ],
      "source": [
        "#Write a program of swapping of two numbers \n",
        "a=2\n",
        "b=3\n",
        "a=a+b\n",
        "b=a-b\n",
        "a=a-b\n",
        "print(\"Result = \",a,b )\n"
      ]
    },
    {
      "cell_type": "code",
      "source": [
        "#Find out the square root of the number\n",
        "import math\n",
        "num=4\n",
        "print(math.sqrt(4))"
      ],
      "metadata": {
        "colab": {
          "base_uri": "https://localhost:8080/"
        },
        "id": "wP3PIrucin5M",
        "outputId": "15389d7a-e57e-4bb3-bbc8-fa087210a479"
      },
      "execution_count": 3,
      "outputs": [
        {
          "output_type": "stream",
          "name": "stdout",
          "text": [
            "2.0\n"
          ]
        }
      ]
    },
    {
      "cell_type": "code",
      "source": [
        "#Find out the Largest of three numbers from the give input\n",
        "a=5 \n",
        "b=3\n",
        "c=2\n",
        "if a>b and a>c:\n",
        "    print(\"5\")\n",
        "elif b>a and b>c:\n",
        "    print(\"3\")\n",
        "elif c>a and c>b:\n",
        "    print(\"2\")"
      ],
      "metadata": {
        "colab": {
          "base_uri": "https://localhost:8080/"
        },
        "id": "Fo6LXHN5jlCc",
        "outputId": "9d3b3bf3-2480-4e96-de7a-587817d6e667"
      },
      "execution_count": 4,
      "outputs": [
        {
          "output_type": "stream",
          "name": "stdout",
          "text": [
            "5\n"
          ]
        }
      ]
    },
    {
      "cell_type": "code",
      "source": [
        "#Add Black color to the given list in the 4th place.\n",
        "Rainbow = ['Red', 'Orange', 'Yellow', 'Green'] \n",
        "Rainbow.insert(4,\"Black\")\n",
        "print(Rainbow)"
      ],
      "metadata": {
        "colab": {
          "base_uri": "https://localhost:8080/"
        },
        "id": "d0HHG0sOjxPU",
        "outputId": "ff3ff53d-2654-46f4-d8c2-3d576d339da6"
      },
      "execution_count": 5,
      "outputs": [
        {
          "output_type": "stream",
          "name": "stdout",
          "text": [
            "['Red', 'Orange', 'Yellow', 'Green', 'Black']\n"
          ]
        }
      ]
    }
  ]
}