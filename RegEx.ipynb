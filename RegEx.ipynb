{
  "nbformat": 4,
  "nbformat_minor": 0,
  "metadata": {
    "colab": {
      "name": "RegEx.ipynb",
      "provenance": [],
      "authorship_tag": "ABX9TyNxY4Q9lJEQ17l18Uk6/PfD",
      "include_colab_link": true
    },
    "kernelspec": {
      "name": "python3",
      "display_name": "Python 3"
    },
    "language_info": {
      "name": "python"
    }
  },
  "cells": [
    {
      "cell_type": "markdown",
      "metadata": {
        "id": "view-in-github",
        "colab_type": "text"
      },
      "source": [
        "<a href=\"https://colab.research.google.com/github/MADHAV-054/Python-practice-0054/blob/module-4/RegEx.ipynb\" target=\"_parent\"><img src=\"https://colab.research.google.com/assets/colab-badge.svg\" alt=\"Open In Colab\"/></a>"
      ]
    },
    {
      "cell_type": "code",
      "execution_count": 4,
      "metadata": {
        "colab": {
          "base_uri": "https://localhost:8080/"
        },
        "id": "smYKQ1PYIX9s",
        "outputId": "c286b212-8653-4cec-ad1b-04100f6bcf9c"
      },
      "outputs": [
        {
          "output_type": "stream",
          "name": "stdout",
          "text": [
            "Yes we have a match\n"
          ]
        }
      ],
      "source": [
        "#REGULAR EXPRESSIONS\n",
        "import re\n",
        "txt = \"Hello World this is a Robot\"\n",
        "x = re.search(\"^Hello.*Robot$\",txt)\n",
        "if x:\n",
        "  print(\"Yes we have a match\")\n",
        "else:\n",
        "  print(\"No match\")\n"
      ]
    },
    {
      "cell_type": "code",
      "source": [
        "#Findall() Function\n",
        "import re\n",
        "txt = \"Hello World this is a Robot\"\n",
        "x = re.findall(\"is\",txt)\n",
        "y = re.findall(\"xy\",txt)\n",
        "print(x)\n",
        "print(y)"
      ],
      "metadata": {
        "colab": {
          "base_uri": "https://localhost:8080/"
        },
        "id": "5IosUF-lJBvU",
        "outputId": "bbb354bd-0eaa-4923-e0ea-84e0f963246a"
      },
      "execution_count": 7,
      "outputs": [
        {
          "output_type": "stream",
          "name": "stdout",
          "text": [
            "['is', 'is']\n",
            "[]\n"
          ]
        }
      ]
    },
    {
      "cell_type": "code",
      "source": [
        "#Search() Function\n",
        "#\\s-returns first white space character in string\n",
        "import re\n",
        "txt = \"Hello World this is a Robot\"\n",
        "x = re.search(\"\\s\", txt)\n",
        "print(x.start())"
      ],
      "metadata": {
        "colab": {
          "base_uri": "https://localhost:8080/"
        },
        "id": "3r0F_LcNJ2eV",
        "outputId": "a592ea5d-48c5-44c5-a534-3053886ac1f6"
      },
      "execution_count": 12,
      "outputs": [
        {
          "output_type": "stream",
          "name": "stdout",
          "text": [
            "5\n"
          ]
        }
      ]
    },
    {
      "cell_type": "code",
      "source": [
        "import re \n",
        "txt = \"Hello World this is a Robot\"\n",
        "x = re.search(\"Human\",txt)\n",
        "print(x)"
      ],
      "metadata": {
        "colab": {
          "base_uri": "https://localhost:8080/"
        },
        "id": "ZeB0LqzEK7CJ",
        "outputId": "a73d2478-f360-4c2b-eac9-91f96e76573c"
      },
      "execution_count": 10,
      "outputs": [
        {
          "output_type": "stream",
          "name": "stdout",
          "text": [
            "None\n"
          ]
        }
      ]
    },
    {
      "cell_type": "code",
      "source": [
        "#Split() Function\n",
        "import re\n",
        "txt = \"Hello World this is a Robot\"\n",
        "x = re.split(\"\\s\", txt)\n",
        "print(x)"
      ],
      "metadata": {
        "colab": {
          "base_uri": "https://localhost:8080/"
        },
        "id": "nx9P1TyRLyjj",
        "outputId": "286ad464-2e32-4279-a6dc-bba834aadd09"
      },
      "execution_count": 13,
      "outputs": [
        {
          "output_type": "stream",
          "name": "stdout",
          "text": [
            "['Hello', 'World', 'this', 'is', 'a', 'Robot']\n"
          ]
        }
      ]
    },
    {
      "cell_type": "code",
      "source": [
        "#maxsplit\n",
        "import re\n",
        "txt = \"Hello World this is a Robot\"\n",
        "x = re.split(\"\\s\", txt,2)\n",
        "print(x)"
      ],
      "metadata": {
        "colab": {
          "base_uri": "https://localhost:8080/"
        },
        "id": "cBg5J3T0MUdP",
        "outputId": "cb530fb8-cab5-455f-d4eb-9eb3afb03b30"
      },
      "execution_count": 17,
      "outputs": [
        {
          "output_type": "stream",
          "name": "stdout",
          "text": [
            "['Hello', 'World', 'this is a Robot']\n"
          ]
        }
      ]
    },
    {
      "cell_type": "code",
      "source": [
        "#Sub() Function\n",
        "import re\n",
        "txt = \"Hello World this is a Robot\"\n",
        "x = re.sub(\"\\s\",\":)\",txt)\n",
        "print(x)"
      ],
      "metadata": {
        "colab": {
          "base_uri": "https://localhost:8080/"
        },
        "id": "T16_iROyMbwd",
        "outputId": "a35fbb7b-e707-4f17-cfe5-e05580731b5b"
      },
      "execution_count": 18,
      "outputs": [
        {
          "output_type": "stream",
          "name": "stdout",
          "text": [
            "Hello:)World:)this:)is:)a:)Robot\n"
          ]
        }
      ]
    },
    {
      "cell_type": "code",
      "source": [
        "import re\n",
        "txt = \"Hello World this is a Robot\"\n",
        "x = re.sub(\"\\s\", \":)\",txt,2)\n",
        "print(x)"
      ],
      "metadata": {
        "colab": {
          "base_uri": "https://localhost:8080/"
        },
        "id": "Y8KCpLEGMzVi",
        "outputId": "e296737d-0284-430d-9acb-f973eb3d0622"
      },
      "execution_count": 20,
      "outputs": [
        {
          "output_type": "stream",
          "name": "stdout",
          "text": [
            "Hello:)World:)this is a Robot\n"
          ]
        }
      ]
    },
    {
      "cell_type": "code",
      "source": [
        "#Match Object\n",
        "import re \n",
        "txt = \"Hello World this is a Robot\"\n",
        "x = re.search(r\"\\bW\\w+\",txt)\n",
        "print(x.span())"
      ],
      "metadata": {
        "colab": {
          "base_uri": "https://localhost:8080/"
        },
        "id": "xBNQCqTzNUcq",
        "outputId": "16195838-97c1-4c5f-daf1-799146dab7b6"
      },
      "execution_count": 21,
      "outputs": [
        {
          "output_type": "stream",
          "name": "stdout",
          "text": [
            "(6, 11)\n"
          ]
        }
      ]
    },
    {
      "cell_type": "code",
      "source": [
        "import re \n",
        "txt = \"Hello World this is a Robot\"\n",
        "x = re.search(r\"\\bR\\w+\",txt)\n",
        "print(x.string)"
      ],
      "metadata": {
        "colab": {
          "base_uri": "https://localhost:8080/"
        },
        "id": "QpG-LxgKN22f",
        "outputId": "6d8c956c-e811-4d20-da30-4b48a075e097"
      },
      "execution_count": 22,
      "outputs": [
        {
          "output_type": "stream",
          "name": "stdout",
          "text": [
            "Hello World this is a Robot\n"
          ]
        }
      ]
    },
    {
      "cell_type": "code",
      "source": [
        "import re \n",
        "txt = \"Hello World this is a Robot\"\n",
        "x = re.search(r\"\\bt\\w+\",txt)\n",
        "print(x.group())"
      ],
      "metadata": {
        "colab": {
          "base_uri": "https://localhost:8080/"
        },
        "id": "q0jDyFRLN4Zp",
        "outputId": "cd45007b-ff9f-4b6c-e2a1-6a8748d31bf0"
      },
      "execution_count": 26,
      "outputs": [
        {
          "output_type": "stream",
          "name": "stdout",
          "text": [
            "this\n"
          ]
        }
      ]
    }
  ]
}