{
  "nbformat": 4,
  "nbformat_minor": 0,
  "metadata": {
    "colab": {
      "name": "Sets.ipynb",
      "provenance": [],
      "authorship_tag": "ABX9TyMXAxMWlPuz507f8Ut0iQvz",
      "include_colab_link": true
    },
    "kernelspec": {
      "name": "python3",
      "display_name": "Python 3"
    },
    "language_info": {
      "name": "python"
    }
  },
  "cells": [
    {
      "cell_type": "markdown",
      "metadata": {
        "id": "view-in-github",
        "colab_type": "text"
      },
      "source": [
        "<a href=\"https://colab.research.google.com/github/MADHAV-054/Python-practice-0054/blob/main/Sets.ipynb\" target=\"_parent\"><img src=\"https://colab.research.google.com/assets/colab-badge.svg\" alt=\"Open In Colab\"/></a>"
      ]
    },
    {
      "cell_type": "code",
      "source": [
        "#Sets\n",
        "a={\"madhav\",\"govardhan\",\"gopal\",\"pavan\"}\n",
        "print(a)\n",
        "#Duplicates Not Allowed\n",
        "a={\"madhav\",\"govardhan\",\"gopal\",\"pavan\",\"madhav\"}\n",
        "print(a)\n",
        "#Get the Length of a Set\n",
        "a={\"madhav\",\"govardhan\",\"gopal\",\"pavan\"}\n",
        "print(len(a))\n",
        "#Set Items - Data Types\n",
        "set1 ={\"madhav\",\"govardhan\",\"gopal\",\"pavan\"}\n",
        "set2 = {1, 5, 7, 9, 3}\n",
        "set3 = {True, False, False}\n",
        "print(set1)\n",
        "print(set2)\n",
        "print(set3)\n",
        "set1 = {\"abc\", 34, True, 40, \"male\"}\n",
        "print(set1)\n",
        "#type()\n",
        "a={'madhav', 'gopal', 'pavan', 'govardhan'}\n",
        "print(type(a))\n",
        "#The set() Constructor\n",
        "a=set(('madhav', 'gopal', 'pavan', 'govardhan'))\n",
        "print(a)"
      ],
      "metadata": {
        "colab": {
          "base_uri": "https://localhost:8080/"
        },
        "id": "_yfn4LyN3WB0",
        "outputId": "7aab4d8f-7926-46d4-f3e8-79385ee02c3e"
      },
      "execution_count": null,
      "outputs": [
        {
          "output_type": "stream",
          "name": "stdout",
          "text": [
            "{'madhav', 'gopal', 'pavan', 'govardhan'}\n",
            "{'madhav', 'gopal', 'pavan', 'govardhan'}\n",
            "4\n",
            "{'madhav', 'gopal', 'pavan', 'govardhan'}\n",
            "{1, 3, 5, 7, 9}\n",
            "{False, True}\n",
            "{True, 'abc', 34, 40, 'male'}\n",
            "<class 'set'>\n",
            "{'madhav', 'gopal', 'pavan', 'govardhan'}\n"
          ]
        }
      ]
    },
    {
      "cell_type": "code",
      "source": [
        "#Python - Access Set Items\n",
        "a={\"madhav\",\"govardhan\",\"gopal\",\"pavan\"}\n",
        "for x in a:\n",
        "  print(x)\n",
        "print(\"madhav\" in a)  \n",
        "# Add Set Items\n",
        "a={\"madhav\",\"govardhan\",\"gopal\",\"pavan\"}\n",
        "a.add(\"phani\")\n",
        "print(a)\n",
        "#Add Sets\n",
        "a={\"madhav\",\"govardhan\",\"gopal\",\"pavan\"}\n",
        "b={\"phani\",\"jashwanth\",\"nivesh\",\"indraneel\"}\n",
        "a.update(b)\n",
        "print(a)\n",
        "#Add Any Iterable\n",
        "a={\"madhav\",\"govardhan\",\"gopal\",\"pavan\"}\n",
        "b=[\"phani\",\"jashwanth\",\"nivesh\",\"indraneel\"]\n",
        "a.update(b)\n",
        "print(a)"
      ],
      "metadata": {
        "id": "IwSHU7y5mZgV",
        "colab": {
          "base_uri": "https://localhost:8080/"
        },
        "outputId": "aa3afb9f-bc7a-4d23-ec65-340b3f037b72"
      },
      "execution_count": null,
      "outputs": [
        {
          "output_type": "stream",
          "name": "stdout",
          "text": [
            "gopal\n",
            "govardhan\n",
            "pavan\n",
            "madhav\n",
            "True\n",
            "{'govardhan', 'gopal', 'madhav', 'phani', 'pavan'}\n",
            "{'govardhan', 'gopal', 'nivesh', 'jashwanth', 'indraneel', 'madhav', 'phani', 'pavan'}\n",
            "{'govardhan', 'gopal', 'jashwanth', 'nivesh', 'indraneel', 'madhav', 'phani', 'pavan'}\n"
          ]
        }
      ]
    },
    {
      "cell_type": "code",
      "source": [
        "#Python - Remove Set Items\n",
        "a={\"madhav\",\"govardhan\",\"gopal\",\"pavan\"}\n",
        "a.remove(\"gopal\")\n",
        "print(a)\n",
        "a={\"madhav\",\"govardhan\",\"gopal\",\"pavan\"}\n",
        "a.discard(\"gopal\")\n",
        "print(a)\n",
        "a={\"madhav\",\"govardhan\",\"gopal\",\"pavan\"}\n",
        "x=a.pop()\n",
        "print(x)\n",
        "print(a)\n",
        "a={\"madhav\",\"gopal\",\"govardhan\",\"pavan\"}\n",
        "a.clear() \n",
        "print(a)"
      ],
      "metadata": {
        "colab": {
          "base_uri": "https://localhost:8080/"
        },
        "id": "Vo5aCvFKDLV_",
        "outputId": "044129d0-4f7e-4695-c8a3-f31e95f7ac30"
      },
      "execution_count": null,
      "outputs": [
        {
          "output_type": "stream",
          "name": "stdout",
          "text": [
            "{'govardhan', 'pavan', 'madhav'}\n",
            "{'govardhan', 'pavan', 'madhav'}\n",
            "gopal\n",
            "{'govardhan', 'pavan', 'madhav'}\n",
            "set()\n"
          ]
        }
      ]
    },
    {
      "cell_type": "code",
      "source": [
        "#Python - Loop Sets\n",
        "a={\"madhav\",\"govardhan\",\"gopal\",\"pavan\"}\n",
        "for x in a:\n",
        "  print(x)"
      ],
      "metadata": {
        "colab": {
          "base_uri": "https://localhost:8080/"
        },
        "id": "XfLGqqoZEuwP",
        "outputId": "e9c14b80-b98f-4235-b9ad-490be2104e59"
      },
      "execution_count": null,
      "outputs": [
        {
          "output_type": "stream",
          "name": "stdout",
          "text": [
            "gopal\n",
            "govardhan\n",
            "pavan\n",
            "madhav\n"
          ]
        }
      ]
    },
    {
      "cell_type": "code",
      "source": [
        "#Python - Join Sets\n",
        "a={\"madhav\",\"govardhan\",\"gopal\",\"pavan\"}\n",
        "b={\"phani\",\"jashwanth\",\"nivesh\",\"indraneel\"}\n",
        "c=a.union(b)\n",
        "print(c)\n",
        "a={\"madhav\",\"govardhan\",\"gopal\",\"pavan\"}\n",
        "b={\"phani\",\"jashwanth\",\"nivesh\",\"indraneel\"}\n",
        "a.update(b)\n",
        "print(a)\n",
        "#Keep ONLY the Duplicates\n",
        "a={\"madhav\",\"govardhan\",\"gopal\",\"pavan\"}\n",
        "b={\"phani\",\"jashwanth\",\"nivesh\",\"madhav\"}\n",
        "a.intersection_update(b)\n",
        "print(a)\n",
        "c=a.intersection(b)\n",
        "print(c)\n",
        "#Keep All, But NOT the Duplicates\n",
        "a={\"madhav\",\"govardhan\",\"gopal\",\"pavan\"}\n",
        "b={\"phani\",\"jashwanth\",\"nivesh\",\"madhav\"}\n",
        "a.symmetric_difference_update(b)\n",
        "print(a)\n",
        "a={\"madhav\",\"govardhan\",\"gopal\",\"pavan\"}\n",
        "b={\"phani\",\"jashwanth\",\"nivesh\",\"madhav\"}\n",
        "c=a.symmetric_difference(b)\n",
        "print(c)"
      ],
      "metadata": {
        "colab": {
          "base_uri": "https://localhost:8080/"
        },
        "id": "si5dDEouFGdp",
        "outputId": "666e92fe-d415-4967-f0c4-ada3bac242c6"
      },
      "execution_count": null,
      "outputs": [
        {
          "output_type": "stream",
          "name": "stdout",
          "text": [
            "{'govardhan', 'gopal', 'nivesh', 'jashwanth', 'indraneel', 'madhav', 'phani', 'pavan'}\n",
            "{'govardhan', 'gopal', 'nivesh', 'jashwanth', 'indraneel', 'madhav', 'phani', 'pavan'}\n",
            "{'madhav'}\n",
            "{'madhav'}\n",
            "{'govardhan', 'gopal', 'nivesh', 'jashwanth', 'phani', 'pavan'}\n",
            "{'govardhan', 'nivesh', 'jashwanth', 'gopal', 'phani', 'pavan'}\n"
          ]
        }
      ]
    },
    {
      "cell_type": "code",
      "source": [
        "#Python - Set Methods\n",
        "a={\"madhav\",\"govardhan\",\"gopal\",\"pavan\"}\n",
        "x=a.copy()\n",
        "print(x)\n",
        "a={\"madhav\",\"govardhan\",\"gopal\",\"pavan\"}\n",
        "b={\"phani\",\"jashwanth\",\"nivesh\",\"madhav\"}\n",
        "z=a.difference(b)\n",
        "print(z)\n",
        "z=b.difference(a)\n",
        "print(z)\n",
        "a={\"madhav\",\"govardhan\",\"gopal\",\"pavan\"}\n",
        "b={\"phani\",\"jashwanth\",\"nivesh\",\"madhav\"}\n",
        "a.difference_update(b)\n",
        "print(a)\n",
        "a={\"madhav\",\"govardhan\",\"gopal\",\"pavan\"}\n",
        "b={\"phani\",\"jashwanth\",\"nivesh\",\"madhav\"}\n",
        "b.difference_update(a)\n",
        "print(b)\n",
        "a={\"madhav\",\"govardhan\",\"gopal\",\"pavan\"}\n",
        "b={\"phani\",\"jashwanth\",\"nivesh\"}\n",
        "c=a.isdisjoint(b)\n",
        "print(c)\n",
        "a={\"madhav\",\"govardhan\",\"gopal\",\"pavan\"}\n",
        "b={\"phani\",\"jashwanth\",\"nivesh\",\"madhav\"}\n",
        "c=a.isdisjoint(b)\n",
        "print(c)\n",
        "a={\"madhav\",\"govardhan\",\"gopal\",\"pavan\"}\n",
        "b={\"phani\",\"jashwanth\",\"nivesh\",\"madhav\",\"govardhan\",\"gopal\",\"pavan\"}\n",
        "c=a.issubset(b)\n",
        "print(c)\n",
        "a={\"phani\",\"jashwanth\",\"nivesh\",\"madhav\",\"govardhan\",\"gopal\",\"pavan\"}\n",
        "b={\"madhav\",\"govardhan\",\"gopal\",\"pavan\"}\n",
        "c=a.issuperset(b)\n",
        "print(c)\n",
        "a={\"phani\",\"jashwanth\",\"nivesh\",\"madhav\",\"govardhan\",\"gopal\",\"pavan\"}\n",
        "c=a.pop()\n",
        "print(c)\n",
        "a={\"phani\",\"jashwanth\",\"nivesh\",\"madhav\",\"govardhan\",\"gopal\",\"pavan\"}\n",
        "a.remove(\"madhav\")\n",
        "print(a)\n",
        "a={\"phani\",\"jashwanth\",\"nivesh\",\"madhav\",\"govardhan\",\"pavan\"}\n",
        "b={\"madhav\",\"govardhan\",\"gopal\",\"pavan\"}\n",
        "c=a.union(b)\n",
        "print(c)\n",
        "a={\"phani\",\"jashwanth\",\"nivesh\",\"madhav\",\"govardhan\",\"pavan\"}\n",
        "b={\"madhav\",\"govardhan\",\"gopal\",\"pavan\"}\n",
        "a.update(b)\n",
        "print(a)"
      ],
      "metadata": {
        "colab": {
          "base_uri": "https://localhost:8080/"
        },
        "id": "FctoI71eH7yu",
        "outputId": "b0056b2e-b40b-4d28-b81f-b29b6f3257d8"
      },
      "execution_count": 5,
      "outputs": [
        {
          "output_type": "stream",
          "name": "stdout",
          "text": [
            "{'madhav', 'pavan', 'gopal', 'govardhan'}\n",
            "{'pavan', 'gopal', 'govardhan'}\n",
            "{'jashwanth', 'phani', 'nivesh'}\n",
            "{'pavan', 'gopal', 'govardhan'}\n",
            "{'jashwanth', 'phani', 'nivesh'}\n",
            "True\n",
            "False\n",
            "True\n",
            "True\n",
            "pavan\n",
            "{'pavan', 'nivesh', 'jashwanth', 'govardhan', 'phani', 'gopal'}\n",
            "{'pavan', 'nivesh', 'jashwanth', 'madhav', 'govardhan', 'phani', 'gopal'}\n",
            "{'pavan', 'nivesh', 'jashwanth', 'madhav', 'govardhan', 'phani', 'gopal'}\n"
          ]
        }
      ]
    },
    {
      "cell_type": "code",
      "source": [
        ""
      ],
      "metadata": {
        "id": "zw0xLhVbMQaw"
      },
      "execution_count": null,
      "outputs": []
    }
  ]
}