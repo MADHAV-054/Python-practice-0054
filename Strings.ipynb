{
  "nbformat": 4,
  "nbformat_minor": 0,
  "metadata": {
    "colab": {
      "name": "Strings.ipynb",
      "provenance": [],
      "authorship_tag": "ABX9TyMKmxO51eTpEkOU+iDQ3NcS",
      "include_colab_link": true
    },
    "kernelspec": {
      "name": "python3",
      "display_name": "Python 3"
    },
    "language_info": {
      "name": "python"
    }
  },
  "cells": [
    {
      "cell_type": "markdown",
      "metadata": {
        "id": "view-in-github",
        "colab_type": "text"
      },
      "source": [
        "<a href=\"https://colab.research.google.com/github/MADHAV-054/Python-practice-0054/blob/module-1/Strings.ipynb\" target=\"_parent\"><img src=\"https://colab.research.google.com/assets/colab-badge.svg\" alt=\"Open In Colab\"/></a>"
      ]
    },
    {
      "cell_type": "code",
      "execution_count": 10,
      "metadata": {
        "id": "Y6GZUN_WPZOc",
        "colab": {
          "base_uri": "https://localhost:8080/"
        },
        "outputId": "1b45a148-793c-4a82-f13e-47b5c8497fc1"
      },
      "outputs": [
        {
          "output_type": "stream",
          "name": "stdout",
          "text": [
            "I am Madhav,\n",
            "coming from Seethammadhara by bike,\n",
            "persuing my B-tech in GITAM University Visakhapatnam.\n",
            "102\n"
          ]
        }
      ],
      "source": [
        "#multine string and length of string\n",
        "a=\"\"\"I am Madhav,\n",
        "coming from Seethammadhara by bike,\n",
        "persuing my B-tech in GITAM University Visakhapatnam.\"\"\"\n",
        "print(a)\n",
        "print(len(a))"
      ]
    },
    {
      "cell_type": "code",
      "source": [
        "#check string\n",
        "a=\"\"\"I am Madhav,\n",
        "coming from Seethammadhara by bike,\n",
        "persuing my B-tech in GITAM University Visakhapatnam.\"\"\"\n",
        "print(\"Madhav\" in a)\n",
        "print(\"harsha\" in a)\n",
        "\n",
        "if \"Madhav\" in a:\n",
        "  print(\"Yes , 'Madhav' is present\")"
      ],
      "metadata": {
        "colab": {
          "base_uri": "https://localhost:8080/"
        },
        "id": "QhbJGZwK_64s",
        "outputId": "a0a0499e-4a0a-480f-dcb6-df4280209d43"
      },
      "execution_count": 16,
      "outputs": [
        {
          "output_type": "stream",
          "name": "stdout",
          "text": [
            "True\n",
            "False\n",
            "Yes , 'Madhav' is present\n"
          ]
        }
      ]
    },
    {
      "cell_type": "code",
      "source": [
        "#check if not\n",
        "a=\"\"\"I am Madhav,\n",
        "coming from Seethammadhara by bike,\n",
        "persuing my B-tech in GITAM University Visakhapatnam.\"\"\"\n",
        "print(\"harsha\" not in a)\n",
        "print(\"Madhav\" not in a)\n",
        "\n",
        "if \"harsha\" not in a:\n",
        "  print(\"harsha is not present\")"
      ],
      "metadata": {
        "colab": {
          "base_uri": "https://localhost:8080/"
        },
        "id": "jfDYPLOdBPWM",
        "outputId": "d24a58bf-a43d-4c74-b78a-3e85da802ca0"
      },
      "execution_count": 24,
      "outputs": [
        {
          "output_type": "stream",
          "name": "stdout",
          "text": [
            "True\n",
            "False\n",
            "harsha is not present\n"
          ]
        }
      ]
    },
    {
      "cell_type": "code",
      "source": [
        "#slicing\n",
        "a=\"\"\"I am Madhav,\n",
        "yesterday i have seen rrr\"\"\"\n",
        "print(len(a))\n",
        "print(a[3:17],a[4:18])\n",
        "print(a[:])\n",
        "print(a[12:])\n",
        "print(a[5:34])\n",
        "print(a[-38:-1])\n",
        "print(a[-38:38])\n",
        "print(a[-20:-5])"
      ],
      "metadata": {
        "colab": {
          "base_uri": "https://localhost:8080/"
        },
        "id": "rZRx5qdMCNuC",
        "outputId": "da820e48-17b0-4ee5-b87f-9d1dddd21e75"
      },
      "execution_count": 85,
      "outputs": [
        {
          "output_type": "stream",
          "name": "stdout",
          "text": [
            "38\n",
            "m Madhav,\n",
            "yest  Madhav,\n",
            "yeste\n",
            "I am Madhav,\n",
            "yesterday i have seen rrr\n",
            "\n",
            "yesterday i have seen rrr\n",
            "Madhav,\n",
            "yesterday i have seen\n",
            "I am Madhav,\n",
            "yesterday i have seen rr\n",
            "I am Madhav,\n",
            "yesterday i have seen rrr\n",
            "rday i have see\n"
          ]
        }
      ]
    },
    {
      "cell_type": "code",
      "source": [
        "#Modify a string\n",
        "a=\"\"\" I am Madhav,\n",
        "coming from Seethammadhara by bike,\n",
        "persuing my B-tech in GITAM University Visakhapatnam. \"\"\"\n",
        "#upper case\n",
        "print(a.upper())\n",
        "#lower case\n",
        "print(a.lower())\n",
        "#remove whitespace from the beginning or the end\n",
        "print(a.strip())\n",
        "#replace string\n",
        "print(a.replace(\"Madhav\",\"Harsha\"))\n",
        "#split string\n",
        "print(a.split(\",\"))"
      ],
      "metadata": {
        "colab": {
          "base_uri": "https://localhost:8080/"
        },
        "id": "QK0oVS3xGUHJ",
        "outputId": "dd4ecb04-3385-4eec-f403-cc058ad70c54"
      },
      "execution_count": 60,
      "outputs": [
        {
          "output_type": "stream",
          "name": "stdout",
          "text": [
            " I AM MADHAV,\n",
            "COMING FROM SEETHAMMADHARA BY BIKE,\n",
            "PERSUING MY B-TECH IN GITAM UNIVERSITY VISAKHAPATNAM. \n",
            " i am madhav,\n",
            "coming from seethammadhara by bike,\n",
            "persuing my b-tech in gitam university visakhapatnam. \n",
            "I am Madhav,\n",
            "coming from Seethammadhara by bike,\n",
            "persuing my B-tech in GITAM University Visakhapatnam.\n",
            " I am Harsha,\n",
            "coming from Seethammadhara by bike,\n",
            "persuing my B-tech in GITAM University Visakhapatnam. \n",
            "[' I am Madhav', '\\ncoming from Seethammadhara by bike', '\\npersuing my B-tech in GITAM University Visakhapatnam. ']\n"
          ]
        }
      ]
    },
    {
      "cell_type": "code",
      "source": [
        "#Concatenation of string\n",
        "a=\"I am Madhav\"\n",
        "b=\",friend of Vasishta \"\n",
        "c=a+b \n",
        "print(c)\n",
        "c=b+a\n",
        "print(c)\n",
        "c=a+\"\"+b\n",
        "print(c)"
      ],
      "metadata": {
        "colab": {
          "base_uri": "https://localhost:8080/"
        },
        "id": "k4q2Dm4dJ-ag",
        "outputId": "5babac78-e7c5-4d06-d1e7-7bc15c3c435b"
      },
      "execution_count": 68,
      "outputs": [
        {
          "output_type": "stream",
          "name": "stdout",
          "text": [
            "I am Madhav,friend of Vasishta \n",
            ",friend of Vasishta I am Madhav\n",
            "I am Madhav,friend of Vasishta \n"
          ]
        }
      ]
    },
    {
      "cell_type": "code",
      "source": [
        "#Format of string\n",
        "age=18\n",
        "txt=\"My name is Madhav , I am {}years old\"\n",
        "print(txt.format(age))\n",
        "#\n",
        "maths=91\n",
        "science=80\n",
        "hindi=72\n",
        "english=80\n",
        "social=86\n",
        "txt=\"\"\"I scored {}marks in maths,\n",
        "{}marks in science, {}marks in hindi,\n",
        "{}marks in english, {}marks in social.\"\"\"\n",
        "print(txt.format(maths,science,hindi,english,social))\n",
        "#\n",
        "maths=91\n",
        "science=80\n",
        "hindi=72\n",
        "english=80\n",
        "social=86\n",
        "txt=\"\"\"I scored {0}marks in maths,\n",
        "{1}marks in science, {2}marks in hindi,\n",
        "{3}marks in english, {4}marks in social.\"\"\"\n",
        "print(txt.format(maths,science,hindi,english,social))"
      ],
      "metadata": {
        "colab": {
          "base_uri": "https://localhost:8080/"
        },
        "id": "WRaYGKKRNZMp",
        "outputId": "f10938c4-6c0f-4698-f138-bd89350873a4"
      },
      "execution_count": 90,
      "outputs": [
        {
          "output_type": "stream",
          "name": "stdout",
          "text": [
            "My name is Madhav , I am 18years old\n",
            "I scored 91marks in maths,\n",
            "80marks in science, 72marks in hindi,\n",
            "80marks in english, 86marks in social.\n",
            "I scored 91marks in maths,\n",
            "80marks in science, 72marks in hindi,\n",
            "80marks in english, 86marks in social.\n"
          ]
        }
      ]
    },
    {
      "cell_type": "code",
      "source": [
        "#Escape Characters\n",
        "txt=\"Hello \\nWorld!\"\n",
        "print(txt)\n",
        "txt=\"Hello\\tWorld!\"\n",
        "print(txt)\n",
        "txt=\"Hello \\bWorld!\"\n",
        "print(txt)"
      ],
      "metadata": {
        "colab": {
          "base_uri": "https://localhost:8080/"
        },
        "id": "h2HHbx4mRLml",
        "outputId": "da5b21bb-b836-457e-afd4-ab4b3df2beac"
      },
      "execution_count": 104,
      "outputs": [
        {
          "output_type": "stream",
          "name": "stdout",
          "text": [
            "Hello \n",
            "World!\n",
            "Hello\tWorld!\n",
            "Hello \bWorld!\n"
          ]
        }
      ]
    }
  ]
}