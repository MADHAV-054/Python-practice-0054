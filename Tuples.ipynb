{
  "nbformat": 4,
  "nbformat_minor": 0,
  "metadata": {
    "colab": {
      "name": "Tuples.ipynb",
      "provenance": [],
      "authorship_tag": "ABX9TyO8jyBuR/LaXvPULGQCiFnE",
      "include_colab_link": true
    },
    "kernelspec": {
      "name": "python3",
      "display_name": "Python 3"
    },
    "language_info": {
      "name": "python"
    }
  },
  "cells": [
    {
      "cell_type": "markdown",
      "metadata": {
        "id": "view-in-github",
        "colab_type": "text"
      },
      "source": [
        "<a href=\"https://colab.research.google.com/github/MADHAV-054/Python-practice-0054/blob/main/Tuples.ipynb\" target=\"_parent\"><img src=\"https://colab.research.google.com/assets/colab-badge.svg\" alt=\"Open In Colab\"/></a>"
      ]
    },
    {
      "cell_type": "code",
      "execution_count": null,
      "metadata": {
        "colab": {
          "base_uri": "https://localhost:8080/"
        },
        "id": "yDs8lpWdPaUt",
        "outputId": "36a50a52-5c44-4142-9def-79879a33ba46"
      },
      "outputs": [
        {
          "output_type": "stream",
          "name": "stdout",
          "text": [
            "('madhav', 'govardhan', 'gopal', 'pavan')\n",
            "('madhav', 'govardhan', 'gopal', 'pavan', 'madhav')\n",
            "4\n",
            "('madhav',)\n",
            "<class 'tuple'>\n",
            "('madhav', 'govardhan', 'gopal', 'pavan')\n"
          ]
        }
      ],
      "source": [
        "#Tuple\n",
        "a=(\"madhav\",\"govardhan\",\"gopal\",\"pavan\")\n",
        "print(a)\n",
        "b=(\"madhav\",\"govardhan\",\"gopal\",\"pavan\",\"madhav\")\n",
        "print(b)\n",
        "#Tuple Length\n",
        "a=(\"madhav\",\"govardhan\",\"gopal\",\"pavan\")\n",
        "print(len(a))\n",
        "#Create Tuple With One Item\n",
        "a=(\"madhav\",)\n",
        "print(a)\n",
        "#Tuple Items - Data Types\n",
        "a=(\"madhav\",\"govardhan\",\"gopal\",\"pavan\")\n",
        "print(type(a))\n",
        "#Tuple constructor\n",
        "a=tuple((\"madhav\",\"govardhan\",\"gopal\",\"pavan\"))\n",
        "print(a)"
      ]
    },
    {
      "cell_type": "code",
      "source": [
        "#Access Tuple items\n",
        "a=(\"madhav\",\"govardhan\",\"gopal\",\"pavan\")\n",
        "print(a[2])\n",
        "#negative indexing\n",
        "print(a[-3])\n",
        "#Range of indexes\n",
        "print(a[1:3])\n",
        "print(a[-4:-1])\n",
        "#\n",
        "b=(\"apple\", \"banana\", \"cherry\", \"orange\", \"kiwi\", \"melon\", \"mango\")\n",
        "print(b[2:])\n",
        "print(b[:5])\n",
        "#Check if \n",
        "b=(\"apple\", \"banana\", \"cherry\", \"orange\", \"kiwi\", \"melon\", \"mango\")\n",
        "if \"cherry\" in b:\n",
        "  print(\"yes\")"
      ],
      "metadata": {
        "colab": {
          "base_uri": "https://localhost:8080/"
        },
        "id": "hh7VTBWHopKa",
        "outputId": "df4ce50b-9a46-4097-eff2-e4eda878b50a"
      },
      "execution_count": null,
      "outputs": [
        {
          "output_type": "stream",
          "name": "stdout",
          "text": [
            "gopal\n",
            "govardhan\n",
            "('govardhan', 'gopal')\n",
            "('madhav', 'govardhan', 'gopal')\n",
            "('cherry', 'orange', 'kiwi', 'melon', 'mango')\n",
            "('apple', 'banana', 'cherry', 'orange', 'kiwi')\n",
            "yes\n"
          ]
        }
      ]
    },
    {
      "cell_type": "code",
      "source": [
        "#Update Tuples\n",
        "\n",
        "#Change Tuple Values\n",
        "a=(\"madhav\",\"govardhan\",\"gopal\",\"pavan\")\n",
        "b=list(a)\n",
        "b[2]=\"Rohit\"\n",
        "a=tuple(b)\n",
        "print(a)\n",
        "#Add items to tuple\n",
        "a=(\"madhav\",\"govardhan\",\"gopal\",\"pavan\")\n",
        "b=list(a)\n",
        "b.append(\"vasishta\")\n",
        "a=tuple(b)\n",
        "print(a)\n",
        "#remove Tuple Values\n",
        "a=(\"madhav\",\"govardhan\",\"gopal\",\"pavan\")\n",
        "b=list(a)\n",
        "b.remove(\"madhav\")\n",
        "a=tuple(b)\n",
        "print(a)"
      ],
      "metadata": {
        "colab": {
          "base_uri": "https://localhost:8080/"
        },
        "id": "eCFANjB9sa_s",
        "outputId": "28f89aaf-2827-4c9e-c357-17af76837d9c"
      },
      "execution_count": 3,
      "outputs": [
        {
          "output_type": "stream",
          "name": "stdout",
          "text": [
            "('madhav', 'govardhan', 'Rohit', 'pavan')\n",
            "('madhav', 'govardhan', 'gopal', 'pavan', 'vasishta')\n",
            "('govardhan', 'gopal', 'pavan')\n"
          ]
        }
      ]
    },
    {
      "cell_type": "code",
      "source": [
        "#removing duplicate tuple values\n",
        "a=(\"madhav\",\"govardhan\",\"gopal\",\"pavan\",\"madhav\")\n",
        "print(a)\n",
        "print(type(a))\n",
        "b=list(a)\n",
        "print(b)\n",
        "print(type(b))\n",
        "for i in list(b):\n",
        "  if i==\"madhav\":\n",
        "    b.remove(\"madhav\")\n",
        "    c=tuple(b)\n",
        "    print(c)"
      ],
      "metadata": {
        "colab": {
          "base_uri": "https://localhost:8080/"
        },
        "id": "gLIHurbN4rG8",
        "outputId": "451f2d4c-0dae-4fb2-bfb6-cc008350382c"
      },
      "execution_count": null,
      "outputs": [
        {
          "output_type": "stream",
          "name": "stdout",
          "text": [
            "('madhav', 'govardhan', 'gopal', 'pavan', 'madhav')\n",
            "<class 'tuple'>\n",
            "['madhav', 'govardhan', 'gopal', 'pavan', 'madhav']\n",
            "<class 'list'>\n",
            "('govardhan', 'gopal', 'pavan', 'madhav')\n",
            "('govardhan', 'gopal', 'pavan')\n"
          ]
        }
      ]
    },
    {
      "cell_type": "code",
      "source": [
        "#unpack tuples\n",
        "a=(\"madhav\",\"govardhan\",\"gopal\",\"pavan\",\"phani\")\n",
        "(green, yellow, *red,)=a\n",
        "print(green)\n",
        "print(yellow)\n",
        "print(red)\n",
        "#\n",
        "(green, *yellow, red,)=a\n",
        "print(green)\n",
        "print(yellow)\n",
        "print(red)\n"
      ],
      "metadata": {
        "colab": {
          "base_uri": "https://localhost:8080/"
        },
        "id": "TcSDlOtDVeJE",
        "outputId": "23f56eb3-504d-4c44-dce5-4267665f9764"
      },
      "execution_count": 14,
      "outputs": [
        {
          "output_type": "stream",
          "name": "stdout",
          "text": [
            "madhav\n",
            "govardhan\n",
            "['gopal', 'pavan', 'phani']\n",
            "madhav\n",
            "['govardhan', 'gopal', 'pavan']\n",
            "phani\n"
          ]
        }
      ]
    },
    {
      "cell_type": "code",
      "source": [
        "#Python - Loop Tuples\n",
        "a=(\"madhav\",\"govardhan\",\"gopal\",\"pavan\",\"phani\")\n",
        "for x in a:\n",
        "  print(x)\n",
        "#Loop Through the Index Numbers\n",
        "a=(\"madhav\",\"govardhan\",\"gopal\",\"pavan\",\"phani\")\n",
        "for x in range(len(a)):\n",
        "  print(a[x])\n",
        "#Using a While Loop\n",
        "a=(\"madhav\",\"govardhan\",\"gopal\",\"pavan\",\"phani\")\n",
        "i=0\n",
        "while i < len(a):\n",
        "  print(a[i])\n",
        "  i=i+1"
      ],
      "metadata": {
        "colab": {
          "base_uri": "https://localhost:8080/"
        },
        "id": "edlK-54TfZpw",
        "outputId": "4945e4f4-f491-4355-a336-8dcc4477e997"
      },
      "execution_count": 18,
      "outputs": [
        {
          "output_type": "stream",
          "name": "stdout",
          "text": [
            "madhav\n",
            "govardhan\n",
            "gopal\n",
            "pavan\n",
            "phani\n",
            "madhav\n",
            "govardhan\n",
            "gopal\n",
            "pavan\n",
            "phani\n",
            "madhav\n",
            "govardhan\n",
            "gopal\n",
            "pavan\n",
            "phani\n"
          ]
        }
      ]
    },
    {
      "cell_type": "code",
      "source": [
        "#Python - Join Tuples\n",
        "a=(\"madhav\",\"govardhan\",\"gopal\",\"pavan\",\"phani\")\n",
        "b=(\"jashwanth\",\"indraneel\",\"yaga\")\n",
        "c=a+b\n",
        "print(c)\n",
        "#Multiply Tuples\n",
        "b=(\"jashwanth\",\"indraneel\",\"yaga\")\n",
        "s=b*2\n",
        "print(s)\n",
        "#Python - Tuple Methods\n",
        "a=(\"madhav\",\"govardhan\",\"gopal\",\"pavan\",\"madhav\")\n",
        "b=a.count(\"madhav\")\n",
        "print(b)\n",
        "a=(\"madhav\",\"govardhan\",\"gopal\",\"pavan\",\"madhav\")\n",
        "b=a.index(\"madhav\")\n",
        "print(b)"
      ],
      "metadata": {
        "colab": {
          "base_uri": "https://localhost:8080/"
        },
        "id": "FAtJ2WdFgRqa",
        "outputId": "809df816-b24f-4463-eba0-c6df7e4efd72"
      },
      "execution_count": 24,
      "outputs": [
        {
          "output_type": "stream",
          "name": "stdout",
          "text": [
            "('madhav', 'govardhan', 'gopal', 'pavan', 'phani', 'jashwanth', 'indraneel', 'yaga')\n",
            "('jashwanth', 'indraneel', 'yaga', 'jashwanth', 'indraneel', 'yaga')\n",
            "2\n",
            "0\n"
          ]
        }
      ]
    }
  ]
}