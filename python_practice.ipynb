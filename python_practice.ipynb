{
  "nbformat": 4,
  "nbformat_minor": 0,
  "metadata": {
    "colab": {
      "name": "python practice.ipynb",
      "provenance": [],
      "authorship_tag": "ABX9TyPK0e24iAwT//1LEZuFgOXL",
      "include_colab_link": true
    },
    "kernelspec": {
      "name": "python3",
      "display_name": "Python 3"
    },
    "language_info": {
      "name": "python"
    }
  },
  "cells": [
    {
      "cell_type": "markdown",
      "metadata": {
        "id": "view-in-github",
        "colab_type": "text"
      },
      "source": [
        "<a href=\"https://colab.research.google.com/github/MADHAV-054/Python-practice-0054/blob/module-1/python_practice.ipynb\" target=\"_parent\"><img src=\"https://colab.research.google.com/assets/colab-badge.svg\" alt=\"Open In Colab\"/></a>"
      ]
    },
    {
      "cell_type": "code",
      "source": [
        "#Eligibility for voting\n",
        "age=21\n",
        "if age>=18:\n",
        " print(\"eligible\")\n",
        "else:\n",
        " printf(\"not eligible\") "
      ],
      "metadata": {
        "colab": {
          "base_uri": "https://localhost:8080/"
        },
        "id": "ZziXmH4mQ20z",
        "outputId": "c660175b-3443-43da-be77-8de6924fca6e"
      },
      "execution_count": 2,
      "outputs": [
        {
          "output_type": "stream",
          "name": "stdout",
          "text": [
            "eligible\n"
          ]
        }
      ]
    },
    {
      "cell_type": "code",
      "source": [
        "#Eligibility for voting dynamic\n",
        "age=int(input(\"enter age :\"))\n",
        "if age>=18:\n",
        " print(\"eligible\")\n",
        "else:\n",
        " print(\"not eligible\") "
      ],
      "metadata": {
        "colab": {
          "base_uri": "https://localhost:8080/"
        },
        "outputId": "e07eafd5-7539-4d72-e382-495eb21f10be",
        "id": "SQm6soWbS8cf"
      },
      "execution_count": 9,
      "outputs": [
        {
          "output_type": "stream",
          "name": "stdout",
          "text": [
            "enter age :15\n",
            "not eligible\n"
          ]
        }
      ]
    },
    {
      "cell_type": "code",
      "source": [
        "#max of three numbers\n",
        "num1=int(input(\"enter num1 : \"))\n",
        "num2=int(input(\"enter num2 : \"))\n",
        "num3=int(input(\"enter num3 : \"))\n",
        "if num1>num2 and num1>num3:\n",
        "  print(\"num1 is greater\")\n",
        "elif num2>num1 and num2>num3:\n",
        "  print(\"num2 is greater\")\n",
        "else:\n",
        " print(\"num3 is greater\") \n",
        "\n"
      ],
      "metadata": {
        "colab": {
          "base_uri": "https://localhost:8080/"
        },
        "id": "G_J4Mw8bTg_d",
        "outputId": "f7783afb-0f5c-4401-c534-d8d8a29b373d"
      },
      "execution_count": 10,
      "outputs": [
        {
          "output_type": "stream",
          "name": "stdout",
          "text": [
            "enter num1 : 1\n",
            "enter num2 : 2\n",
            "enter num3 : 3\n",
            "num3 is greater\n"
          ]
        }
      ]
    },
    {
      "cell_type": "code",
      "source": [
        "#compare five subjects marks\n",
        "m=int(input(\"enter maths marks : \"))\n",
        "p=int(input(\"enter phy marks : \"))\n",
        "c=int(input(\"enter chem marks : \"))\n",
        "s=int(input(\"enter cse marks : \"))\n",
        "b=int(input(\"enter beee marks : \"))\n",
        "if m>p and m>c and m>s and m>b:\n",
        "  print(\"maths marks are greater\")\n",
        "elif p>m and p>c and p>s and p>b:\n",
        "  print(\"phy marks are greater\")\n",
        "elif c>m and c>p and c>s and c>b:\n",
        "  print(\"chem marks are greater\")  \n",
        "elif s>m and s>p and s>c and s>b:\n",
        "  print(\"cse marks are greater\")\n",
        "else:\n",
        " print(\"beee marks are greater\") \n",
        "\n"
      ],
      "metadata": {
        "colab": {
          "base_uri": "https://localhost:8080/"
        },
        "outputId": "eb21517a-d2b6-49b3-9011-b092c786b060",
        "id": "l0nEn1hNVlAe"
      },
      "execution_count": 11,
      "outputs": [
        {
          "output_type": "stream",
          "name": "stdout",
          "text": [
            "enter maths marks : 70\n",
            "enter phy marks : 50\n",
            "enter chem marks : 60\n",
            "enter cse marks : 80\n",
            "enter beee marks : 90\n",
            "beee marks are greater\n"
          ]
        }
      ]
    },
    {
      "cell_type": "code",
      "source": [
        "#check whether the triangle is equilateral, isosceles, or scalene triangle.\n",
        "s1=int(input(\"enter side 1 : \"))\n",
        "s2=int(input(\"enter side 2 : \"))\n",
        "s3=int(input(\"enter side 3 : \"))\n",
        "if s1==s2==s3:\n",
        "  print(\"equilateral triangle\")\n",
        "elif s1!=s2 and s2!=s3 and s3!=s1:\n",
        "  print(\"scalene triangle\")\n",
        "elif s1==s2 and s2!=s3 or s2==s3 and s3!=s1 or s3==s1 and s1!=s2:\n",
        " print(\"isoceles triangle\")  \n"
      ],
      "metadata": {
        "colab": {
          "base_uri": "https://localhost:8080/"
        },
        "id": "pgtdTL65Xmpm",
        "outputId": "1f429368-a580-4921-c343-2c571b7b6d89"
      },
      "execution_count": 53,
      "outputs": [
        {
          "output_type": "stream",
          "name": "stdout",
          "text": [
            "enter side 1 : 10\n",
            "enter side 2 : 20\n",
            "enter side 3 : 10\n",
            "isoceles triangle\n"
          ]
        }
      ]
    },
    {
      "cell_type": "code",
      "source": [
        ""
      ],
      "metadata": {
        "id": "bgoETLZPa062"
      },
      "execution_count": null,
      "outputs": []
    }
  ]
}